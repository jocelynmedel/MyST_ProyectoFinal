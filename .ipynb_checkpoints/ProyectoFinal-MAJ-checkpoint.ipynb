{
 "cells": [
  {
   "cell_type": "markdown",
   "metadata": {},
   "source": [
    "___\n",
    "<img style=\"float: right; margin: 0px 0px 15px 15px;\" \n",
    "src=\"https://www.carrerasenlinea.mx/logos/original/logo-instituto-tecnologico-y-de-estudios\n",
    "-superiores-de-occidente.png\" width=\"150px\" height=\"100px\" />\n",
    "\n",
    "\n",
    "# MICROESTRUCTURAS Y SISTEMAS DE \"TRADING\"\n",
    "# LABORATORIO 4\n",
    "\n",
    "## Nombres: Ana Laura Correa , Mariana Lopez, Jocelyn Medel\n",
    "\n",
    "## Fecha: 8 / Diciembre / 2019"
   ]
  },
  {
   "cell_type": "markdown",
   "metadata": {},
   "source": [
    "#### Propósito: \n",
    "Diseñar una estrategia de trading con base a la reacción del precio ante el comunicado de indicadores macroeconómicos (Análisis fundamental)."
   ]
  },
  {
   "cell_type": "markdown",
   "metadata": {},
   "source": [
    "#### Librerias:"
   ]
  },
  {
   "cell_type": "code",
   "execution_count": 1,
   "metadata": {},
   "outputs": [],
   "source": [
    "import pandas as pd\n",
    "import numpy as np"
   ]
  },
  {
   "cell_type": "markdown",
   "metadata": {},
   "source": [
    "#### Archivo de Precios Historicos"
   ]
  },
  {
   "cell_type": "code",
   "execution_count": 3,
   "metadata": {},
   "outputs": [
    {
     "data": {
      "text/html": [
       "<div>\n",
       "<style scoped>\n",
       "    .dataframe tbody tr th:only-of-type {\n",
       "        vertical-align: middle;\n",
       "    }\n",
       "\n",
       "    .dataframe tbody tr th {\n",
       "        vertical-align: top;\n",
       "    }\n",
       "\n",
       "    .dataframe thead th {\n",
       "        text-align: right;\n",
       "    }\n",
       "</style>\n",
       "<table border=\"1\" class=\"dataframe\">\n",
       "  <thead>\n",
       "    <tr style=\"text-align: right;\">\n",
       "      <th></th>\n",
       "      <th>timestamp</th>\n",
       "      <th>open</th>\n",
       "      <th>high</th>\n",
       "      <th>low</th>\n",
       "      <th>close</th>\n",
       "    </tr>\n",
       "  </thead>\n",
       "  <tbody>\n",
       "    <tr>\n",
       "      <th>0</th>\n",
       "      <td>2009-01-06 05:00:00+00:00</td>\n",
       "      <td>1.35564</td>\n",
       "      <td>1.35565</td>\n",
       "      <td>1.35383</td>\n",
       "      <td>1.35439</td>\n",
       "    </tr>\n",
       "    <tr>\n",
       "      <th>1</th>\n",
       "      <td>2009-01-06 05:05:00+00:00</td>\n",
       "      <td>1.35443</td>\n",
       "      <td>1.35489</td>\n",
       "      <td>1.35424</td>\n",
       "      <td>1.35474</td>\n",
       "    </tr>\n",
       "    <tr>\n",
       "      <th>2</th>\n",
       "      <td>2009-01-06 05:10:00+00:00</td>\n",
       "      <td>1.35480</td>\n",
       "      <td>1.35552</td>\n",
       "      <td>1.35439</td>\n",
       "      <td>1.35539</td>\n",
       "    </tr>\n",
       "    <tr>\n",
       "      <th>3</th>\n",
       "      <td>2009-01-06 05:15:00+00:00</td>\n",
       "      <td>1.35545</td>\n",
       "      <td>1.35549</td>\n",
       "      <td>1.35101</td>\n",
       "      <td>1.35101</td>\n",
       "    </tr>\n",
       "    <tr>\n",
       "      <th>4</th>\n",
       "      <td>2009-01-06 05:20:00+00:00</td>\n",
       "      <td>1.35101</td>\n",
       "      <td>1.35130</td>\n",
       "      <td>1.35021</td>\n",
       "      <td>1.35086</td>\n",
       "    </tr>\n",
       "  </tbody>\n",
       "</table>\n",
       "</div>"
      ],
      "text/plain": [
       "                  timestamp     open     high      low    close\n",
       "0 2009-01-06 05:00:00+00:00  1.35564  1.35565  1.35383  1.35439\n",
       "1 2009-01-06 05:05:00+00:00  1.35443  1.35489  1.35424  1.35474\n",
       "2 2009-01-06 05:10:00+00:00  1.35480  1.35552  1.35439  1.35539\n",
       "3 2009-01-06 05:15:00+00:00  1.35545  1.35549  1.35101  1.35101\n",
       "4 2009-01-06 05:20:00+00:00  1.35101  1.35130  1.35021  1.35086"
      ]
     },
     "execution_count": 3,
     "metadata": {},
     "output_type": "execute_result"
    }
   ],
   "source": [
    "p = pd.read_csv('../precios_historicos_eurusd.csv',header=0, index_col=None, parse_dates=False)\n",
    "p['timestamp'] = [pd.to_datetime(p.iat[i,0]).tz_localize('GMT') for i in range(len(p))] # Timestamp a 'GMT'\n",
    "p.head()"
   ]
  },
  {
   "cell_type": "markdown",
   "metadata": {},
   "source": [
    "#### Archivo de Calendario Economico"
   ]
  },
  {
   "cell_type": "code",
   "execution_count": 11,
   "metadata": {},
   "outputs": [
    {
     "data": {
      "text/html": [
       "<div>\n",
       "<style scoped>\n",
       "    .dataframe tbody tr th:only-of-type {\n",
       "        vertical-align: middle;\n",
       "    }\n",
       "\n",
       "    .dataframe tbody tr th {\n",
       "        vertical-align: top;\n",
       "    }\n",
       "\n",
       "    .dataframe thead th {\n",
       "        text-align: right;\n",
       "    }\n",
       "</style>\n",
       "<table border=\"1\" class=\"dataframe\">\n",
       "  <thead>\n",
       "    <tr style=\"text-align: right;\">\n",
       "      <th></th>\n",
       "      <th>timestamp</th>\n",
       "      <th>Currency</th>\n",
       "      <th>Name</th>\n",
       "      <th>Country</th>\n",
       "      <th>Volatility</th>\n",
       "      <th>actual</th>\n",
       "      <th>previous</th>\n",
       "      <th>consensus</th>\n",
       "    </tr>\n",
       "  </thead>\n",
       "  <tbody>\n",
       "    <tr>\n",
       "      <th>0</th>\n",
       "      <td>2009-01-05 09:30:00+00:00</td>\n",
       "      <td>EUR</td>\n",
       "      <td>Sentix Investor Confidence</td>\n",
       "      <td>European Monetary Union</td>\n",
       "      <td>1</td>\n",
       "      <td>-34.4</td>\n",
       "      <td>-42.3</td>\n",
       "      <td>NaN</td>\n",
       "    </tr>\n",
       "    <tr>\n",
       "      <th>1</th>\n",
       "      <td>2009-01-05 15:00:00+00:00</td>\n",
       "      <td>USD</td>\n",
       "      <td>Construction Spending (MoM)</td>\n",
       "      <td>United States</td>\n",
       "      <td>1</td>\n",
       "      <td>-1.2</td>\n",
       "      <td>-0.4</td>\n",
       "      <td>-1.3</td>\n",
       "    </tr>\n",
       "    <tr>\n",
       "      <th>2</th>\n",
       "      <td>2009-01-06 08:55:00+00:00</td>\n",
       "      <td>EUR</td>\n",
       "      <td>Markit Services PMI</td>\n",
       "      <td>Germany</td>\n",
       "      <td>1</td>\n",
       "      <td>46.6</td>\n",
       "      <td>46.4</td>\n",
       "      <td>46.4</td>\n",
       "    </tr>\n",
       "    <tr>\n",
       "      <th>3</th>\n",
       "      <td>2009-01-06 09:00:00+00:00</td>\n",
       "      <td>EUR</td>\n",
       "      <td>Markit Services PMI</td>\n",
       "      <td>European Monetary Union</td>\n",
       "      <td>0</td>\n",
       "      <td>42.1</td>\n",
       "      <td>42.0</td>\n",
       "      <td>42.0</td>\n",
       "    </tr>\n",
       "    <tr>\n",
       "      <th>4</th>\n",
       "      <td>2009-01-06 10:00:00+00:00</td>\n",
       "      <td>EUR</td>\n",
       "      <td>Consumer Price Index (YoY)</td>\n",
       "      <td>European Monetary Union</td>\n",
       "      <td>2</td>\n",
       "      <td>1.6</td>\n",
       "      <td>2.1</td>\n",
       "      <td>1.8</td>\n",
       "    </tr>\n",
       "  </tbody>\n",
       "</table>\n",
       "</div>"
      ],
      "text/plain": [
       "                  timestamp Currency                         Name  \\\n",
       "0 2009-01-05 09:30:00+00:00      EUR   Sentix Investor Confidence   \n",
       "1 2009-01-05 15:00:00+00:00      USD  Construction Spending (MoM)   \n",
       "2 2009-01-06 08:55:00+00:00      EUR          Markit Services PMI   \n",
       "3 2009-01-06 09:00:00+00:00      EUR          Markit Services PMI   \n",
       "4 2009-01-06 10:00:00+00:00      EUR   Consumer Price Index (YoY)   \n",
       "\n",
       "                   Country  Volatility  actual  previous  consensus  \n",
       "0  European Monetary Union           1   -34.4     -42.3        NaN  \n",
       "1            United States           1    -1.2      -0.4       -1.3  \n",
       "2                  Germany           1    46.6      46.4       46.4  \n",
       "3  European Monetary Union           0    42.1      42.0       42.0  \n",
       "4  European Monetary Union           2     1.6       2.1        1.8  "
      ]
     },
     "execution_count": 11,
     "metadata": {},
     "output_type": "execute_result"
    }
   ],
   "source": [
    "data = pd.read_csv('../calendario_economico.csv',header=0, index_col=None, parse_dates=False)\n",
    "data['timestamp'] = [pd.to_datetime(data.iat[i,0]).tz_localize('GMT') for i in range(len(data))] # Timestamp a 'GMT'\n",
    "data.head()"
   ]
  },
  {
   "cell_type": "code",
   "execution_count": null,
   "metadata": {},
   "outputs": [],
   "source": []
  },
  {
   "cell_type": "code",
   "execution_count": null,
   "metadata": {},
   "outputs": [],
   "source": []
  }
 ],
 "metadata": {
  "kernelspec": {
   "display_name": "Python 3",
   "language": "python",
   "name": "python3"
  },
  "language_info": {
   "codemirror_mode": {
    "name": "ipython",
    "version": 3
   },
   "file_extension": ".py",
   "mimetype": "text/x-python",
   "name": "python",
   "nbconvert_exporter": "python",
   "pygments_lexer": "ipython3",
   "version": "3.7.3"
  }
 },
 "nbformat": 4,
 "nbformat_minor": 2
}
