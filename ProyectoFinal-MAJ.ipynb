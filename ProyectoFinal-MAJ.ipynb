{
 "cells": [
  {
   "cell_type": "markdown",
   "metadata": {},
   "source": [
    "<center><img src=\"http://oci02.img.iteso.mx/identidad_de_instancia_2018/ITESO/Logos%20ITESO/Logo-ITESO-Principal.jpg\"\n",
    "width=\"1500px\" height=\"1000px\" />\n",
    "\n",
    "<center> <font color= #004A94> <font size = 5> Microestructura y Sistemas de Trading </font> <br> <br> <font color= #047CFB> <font size = 5> Ana Laura Correa Cabrales </font> <br> <br> <font color= #047CFB> <font size = 5> Mariana López Correa </font>  <br> <br> <font color= #047CFB> <font size = 5> Jocelyn Medel Ruíz </font> <br> <br> <font color= #047CFB> \n",
    "\n",
    "\n",
    "<center><font color= #42c29b> <font size = 6> Proyecto Final </font> <br> <br> <font color= #047CFB> <font size = 5>Repositorio: <a href='https://github.com/jocelynmedel/MyST_ProyectoFinal'>Link</a></font>\n",
    "    \n",
    "\n",
    "## Fecha: 8 Diciembre de 2019"
   ]
  },
  {
   "cell_type": "markdown",
   "metadata": {},
   "source": [
    "# Propósito: \n",
    "Diseñar una estrategia de trading con base a la reacción del precio ante el comunicado de indicadores macroeconómicos (Análisis fundamental).\n",
    "\n",
    "\n",
    "#### Requisitos generales:\n",
    "\n",
    "· Capital inicial: $100,000\n",
    "\n",
    "· Riesgo por operación: $1,000\n",
    "\n",
    "\n",
    "### Información sobre el indicador\n",
    "\n",
    "#### Nonfarm payrolls (NFP)\n",
    "\n",
    "Un pronóstico de nóminas no agrícolas es un contenido basado en sentimientos que trata de predecir cuáles serán los números de PFN y qué impacto tendrán en los mercados. En esta página, encontrará algunos artículos y herramientas que lo ayudarán a comprender cuál podría ser la perspectiva para el Informe ADP, la Tasa de desempleo, las ganancias promedio por hora, la tasa de participación en la fuerza laboral y algunos otros indicadores económicos importantes.\n",
    "\n",
    "El ADP (Informe Nacional de Empleo) es una estimación del empleo no agrícola que se basa en una encuesta de miles de empresas del sector privado. Una de las mayores diferencias entre los datos de PFN y los datos de ADP es la muestra y la metodología del estudio. ADP Jobs Report podría mostrarnos una anticipación de las tendencias de la PFN. Algunas perspectivas se basan principalmente en el Informe de trabajos, en datos anteriores y en otros indicadores de trabajo relacionados, como las reclamaciones iniciales / continuas de desempleo.\n",
    "\n",
    "El informe de nóminas no agrícolas mide la cantidad de empleos agregados o perdidos en la economía estadounidense durante el último mes. Se lanza generalmente el primer viernes de cada mes, a las 8:30 EST. Es publicado por el Departamento de Trabajo de los Estados Unidos.\n",
    "\n",
    "Este informe es importante porque Estados Unidos es la economía más grande del mundo y su moneda (dólar estadounidense) es la moneda de reserva global. Las muchas economías fijan (vinculan) el valor de su moneda a la moneda de reserva, muchos productos básicos como el oro y el petróleo tienen un precio en términos de la moneda de reserva y la deuda de la economía local tiene un precio en términos de su propia moneda.\n",
    "\n",
    "El informe de PFN, debido a su importancia para la moneda de reserva, tiende a mover todos los mercados: monedas, acciones, bonos del Tesoro, tasas de interés y también productos básicos. Lo hace inmediatamente después de la publicación de los datos económicos y, a veces, de manera tan dramática."
   ]
  },
  {
   "cell_type": "markdown",
   "metadata": {},
   "source": [
    "#### Librerias:"
   ]
  },
  {
   "cell_type": "code",
   "execution_count": 1,
   "metadata": {},
   "outputs": [],
   "source": [
    "#Importar librerias\n",
    "import pandas as pd\n",
    "pd.options.display.max_rows = None\n",
    "import math \n",
    "import pandas as pd\n",
    "import numpy as np\n",
    "import warnings\n",
    "import datetime\n",
    "import plotly.graph_objects as go\n",
    "from plotly.subplots import make_subplots\n",
    "warnings.filterwarnings(\"ignore\")\n",
    "from plotly.offline import download_plotlyjs, init_notebook_mode, plot, iplot\n",
    "import plotly.offline as py"
   ]
  },
  {
   "cell_type": "markdown",
   "metadata": {},
   "source": [
    "#### Archivo de Precios Históricos"
   ]
  },
  {
   "cell_type": "code",
   "execution_count": 2,
   "metadata": {},
   "outputs": [
    {
     "data": {
      "text/html": [
       "<div>\n",
       "<style scoped>\n",
       "    .dataframe tbody tr th:only-of-type {\n",
       "        vertical-align: middle;\n",
       "    }\n",
       "\n",
       "    .dataframe tbody tr th {\n",
       "        vertical-align: top;\n",
       "    }\n",
       "\n",
       "    .dataframe thead th {\n",
       "        text-align: right;\n",
       "    }\n",
       "</style>\n",
       "<table border=\"1\" class=\"dataframe\">\n",
       "  <thead>\n",
       "    <tr style=\"text-align: right;\">\n",
       "      <th></th>\n",
       "      <th>timestamp</th>\n",
       "      <th>open</th>\n",
       "      <th>high</th>\n",
       "      <th>low</th>\n",
       "      <th>close</th>\n",
       "    </tr>\n",
       "  </thead>\n",
       "  <tbody>\n",
       "    <tr>\n",
       "      <th>0</th>\n",
       "      <td>2009-06-01 05:00:00+00:00</td>\n",
       "      <td>1.35564</td>\n",
       "      <td>1.35565</td>\n",
       "      <td>1.35383</td>\n",
       "      <td>1.35439</td>\n",
       "    </tr>\n",
       "    <tr>\n",
       "      <th>1</th>\n",
       "      <td>2009-06-01 05:05:00+00:00</td>\n",
       "      <td>1.35443</td>\n",
       "      <td>1.35489</td>\n",
       "      <td>1.35424</td>\n",
       "      <td>1.35474</td>\n",
       "    </tr>\n",
       "    <tr>\n",
       "      <th>2</th>\n",
       "      <td>2009-06-01 05:10:00+00:00</td>\n",
       "      <td>1.35480</td>\n",
       "      <td>1.35552</td>\n",
       "      <td>1.35439</td>\n",
       "      <td>1.35539</td>\n",
       "    </tr>\n",
       "    <tr>\n",
       "      <th>3</th>\n",
       "      <td>2009-06-01 05:15:00+00:00</td>\n",
       "      <td>1.35545</td>\n",
       "      <td>1.35549</td>\n",
       "      <td>1.35101</td>\n",
       "      <td>1.35101</td>\n",
       "    </tr>\n",
       "    <tr>\n",
       "      <th>4</th>\n",
       "      <td>2009-06-01 05:20:00+00:00</td>\n",
       "      <td>1.35101</td>\n",
       "      <td>1.35130</td>\n",
       "      <td>1.35021</td>\n",
       "      <td>1.35086</td>\n",
       "    </tr>\n",
       "  </tbody>\n",
       "</table>\n",
       "</div>"
      ],
      "text/plain": [
       "                  timestamp     open     high      low    close\n",
       "0 2009-06-01 05:00:00+00:00  1.35564  1.35565  1.35383  1.35439\n",
       "1 2009-06-01 05:05:00+00:00  1.35443  1.35489  1.35424  1.35474\n",
       "2 2009-06-01 05:10:00+00:00  1.35480  1.35552  1.35439  1.35539\n",
       "3 2009-06-01 05:15:00+00:00  1.35545  1.35549  1.35101  1.35101\n",
       "4 2009-06-01 05:20:00+00:00  1.35101  1.35130  1.35021  1.35086"
      ]
     },
     "execution_count": 2,
     "metadata": {},
     "output_type": "execute_result"
    }
   ],
   "source": [
    "# Importación de precios históricos EUR USD\n",
    "prices = pd.read_csv('precios_historicos_eurusd.csv',header=0, index_col=None, parse_dates=False)\n",
    "prices['timestamp'] = [pd.to_datetime(prices.iat[i,0]).tz_localize('GMT') for i in range(len(prices))] # Timestamp a 'GMT'\n",
    "prices.head()"
   ]
  },
  {
   "cell_type": "markdown",
   "metadata": {},
   "source": [
    "#### Archivo de Calendario Económico"
   ]
  },
  {
   "cell_type": "code",
   "execution_count": 3,
   "metadata": {},
   "outputs": [
    {
     "ename": "FileNotFoundError",
     "evalue": "File b'calendario_economico.csv' does not exist",
     "output_type": "error",
     "traceback": [
      "\u001b[0;31m---------------------------------------------------------------------------\u001b[0m",
      "\u001b[0;31mFileNotFoundError\u001b[0m                         Traceback (most recent call last)",
      "\u001b[0;32m<ipython-input-3-72e9124f9ec0>\u001b[0m in \u001b[0;36m<module>\u001b[0;34m()\u001b[0m\n\u001b[1;32m      1\u001b[0m \u001b[0;31m# Importación de datos calendario económico\u001b[0m\u001b[0;34m\u001b[0m\u001b[0;34m\u001b[0m\u001b[0m\n\u001b[0;32m----> 2\u001b[0;31m \u001b[0mdata\u001b[0m \u001b[0;34m=\u001b[0m \u001b[0mpd\u001b[0m\u001b[0;34m.\u001b[0m\u001b[0mread_csv\u001b[0m\u001b[0;34m(\u001b[0m\u001b[0;34m'calendario_economico.csv'\u001b[0m\u001b[0;34m,\u001b[0m\u001b[0mheader\u001b[0m\u001b[0;34m=\u001b[0m\u001b[0;36m0\u001b[0m\u001b[0;34m,\u001b[0m \u001b[0mindex_col\u001b[0m\u001b[0;34m=\u001b[0m\u001b[0;32mNone\u001b[0m\u001b[0;34m,\u001b[0m \u001b[0mparse_dates\u001b[0m\u001b[0;34m=\u001b[0m\u001b[0;32mFalse\u001b[0m\u001b[0;34m)\u001b[0m\u001b[0;34m\u001b[0m\u001b[0m\n\u001b[0m\u001b[1;32m      3\u001b[0m \u001b[0mdata\u001b[0m\u001b[0;34m.\u001b[0m\u001b[0mhead\u001b[0m\u001b[0;34m(\u001b[0m\u001b[0;34m)\u001b[0m\u001b[0;34m\u001b[0m\u001b[0m\n",
      "\u001b[0;32m~/anaconda3/lib/python3.6/site-packages/pandas/io/parsers.py\u001b[0m in \u001b[0;36mparser_f\u001b[0;34m(filepath_or_buffer, sep, delimiter, header, names, index_col, usecols, squeeze, prefix, mangle_dupe_cols, dtype, engine, converters, true_values, false_values, skipinitialspace, skiprows, nrows, na_values, keep_default_na, na_filter, verbose, skip_blank_lines, parse_dates, infer_datetime_format, keep_date_col, date_parser, dayfirst, iterator, chunksize, compression, thousands, decimal, lineterminator, quotechar, quoting, escapechar, comment, encoding, dialect, tupleize_cols, error_bad_lines, warn_bad_lines, skipfooter, skip_footer, doublequote, delim_whitespace, as_recarray, compact_ints, use_unsigned, low_memory, buffer_lines, memory_map, float_precision)\u001b[0m\n\u001b[1;32m    707\u001b[0m                     skip_blank_lines=skip_blank_lines)\n\u001b[1;32m    708\u001b[0m \u001b[0;34m\u001b[0m\u001b[0m\n\u001b[0;32m--> 709\u001b[0;31m         \u001b[0;32mreturn\u001b[0m \u001b[0m_read\u001b[0m\u001b[0;34m(\u001b[0m\u001b[0mfilepath_or_buffer\u001b[0m\u001b[0;34m,\u001b[0m \u001b[0mkwds\u001b[0m\u001b[0;34m)\u001b[0m\u001b[0;34m\u001b[0m\u001b[0m\n\u001b[0m\u001b[1;32m    710\u001b[0m \u001b[0;34m\u001b[0m\u001b[0m\n\u001b[1;32m    711\u001b[0m     \u001b[0mparser_f\u001b[0m\u001b[0;34m.\u001b[0m\u001b[0m__name__\u001b[0m \u001b[0;34m=\u001b[0m \u001b[0mname\u001b[0m\u001b[0;34m\u001b[0m\u001b[0m\n",
      "\u001b[0;32m~/anaconda3/lib/python3.6/site-packages/pandas/io/parsers.py\u001b[0m in \u001b[0;36m_read\u001b[0;34m(filepath_or_buffer, kwds)\u001b[0m\n\u001b[1;32m    447\u001b[0m \u001b[0;34m\u001b[0m\u001b[0m\n\u001b[1;32m    448\u001b[0m     \u001b[0;31m# Create the parser.\u001b[0m\u001b[0;34m\u001b[0m\u001b[0;34m\u001b[0m\u001b[0m\n\u001b[0;32m--> 449\u001b[0;31m     \u001b[0mparser\u001b[0m \u001b[0;34m=\u001b[0m \u001b[0mTextFileReader\u001b[0m\u001b[0;34m(\u001b[0m\u001b[0mfilepath_or_buffer\u001b[0m\u001b[0;34m,\u001b[0m \u001b[0;34m**\u001b[0m\u001b[0mkwds\u001b[0m\u001b[0;34m)\u001b[0m\u001b[0;34m\u001b[0m\u001b[0m\n\u001b[0m\u001b[1;32m    450\u001b[0m \u001b[0;34m\u001b[0m\u001b[0m\n\u001b[1;32m    451\u001b[0m     \u001b[0;32mif\u001b[0m \u001b[0mchunksize\u001b[0m \u001b[0;32mor\u001b[0m \u001b[0miterator\u001b[0m\u001b[0;34m:\u001b[0m\u001b[0;34m\u001b[0m\u001b[0m\n",
      "\u001b[0;32m~/anaconda3/lib/python3.6/site-packages/pandas/io/parsers.py\u001b[0m in \u001b[0;36m__init__\u001b[0;34m(self, f, engine, **kwds)\u001b[0m\n\u001b[1;32m    816\u001b[0m             \u001b[0mself\u001b[0m\u001b[0;34m.\u001b[0m\u001b[0moptions\u001b[0m\u001b[0;34m[\u001b[0m\u001b[0;34m'has_index_names'\u001b[0m\u001b[0;34m]\u001b[0m \u001b[0;34m=\u001b[0m \u001b[0mkwds\u001b[0m\u001b[0;34m[\u001b[0m\u001b[0;34m'has_index_names'\u001b[0m\u001b[0;34m]\u001b[0m\u001b[0;34m\u001b[0m\u001b[0m\n\u001b[1;32m    817\u001b[0m \u001b[0;34m\u001b[0m\u001b[0m\n\u001b[0;32m--> 818\u001b[0;31m         \u001b[0mself\u001b[0m\u001b[0;34m.\u001b[0m\u001b[0m_make_engine\u001b[0m\u001b[0;34m(\u001b[0m\u001b[0mself\u001b[0m\u001b[0;34m.\u001b[0m\u001b[0mengine\u001b[0m\u001b[0;34m)\u001b[0m\u001b[0;34m\u001b[0m\u001b[0m\n\u001b[0m\u001b[1;32m    819\u001b[0m \u001b[0;34m\u001b[0m\u001b[0m\n\u001b[1;32m    820\u001b[0m     \u001b[0;32mdef\u001b[0m \u001b[0mclose\u001b[0m\u001b[0;34m(\u001b[0m\u001b[0mself\u001b[0m\u001b[0;34m)\u001b[0m\u001b[0;34m:\u001b[0m\u001b[0;34m\u001b[0m\u001b[0m\n",
      "\u001b[0;32m~/anaconda3/lib/python3.6/site-packages/pandas/io/parsers.py\u001b[0m in \u001b[0;36m_make_engine\u001b[0;34m(self, engine)\u001b[0m\n\u001b[1;32m   1047\u001b[0m     \u001b[0;32mdef\u001b[0m \u001b[0m_make_engine\u001b[0m\u001b[0;34m(\u001b[0m\u001b[0mself\u001b[0m\u001b[0;34m,\u001b[0m \u001b[0mengine\u001b[0m\u001b[0;34m=\u001b[0m\u001b[0;34m'c'\u001b[0m\u001b[0;34m)\u001b[0m\u001b[0;34m:\u001b[0m\u001b[0;34m\u001b[0m\u001b[0m\n\u001b[1;32m   1048\u001b[0m         \u001b[0;32mif\u001b[0m \u001b[0mengine\u001b[0m \u001b[0;34m==\u001b[0m \u001b[0;34m'c'\u001b[0m\u001b[0;34m:\u001b[0m\u001b[0;34m\u001b[0m\u001b[0m\n\u001b[0;32m-> 1049\u001b[0;31m             \u001b[0mself\u001b[0m\u001b[0;34m.\u001b[0m\u001b[0m_engine\u001b[0m \u001b[0;34m=\u001b[0m \u001b[0mCParserWrapper\u001b[0m\u001b[0;34m(\u001b[0m\u001b[0mself\u001b[0m\u001b[0;34m.\u001b[0m\u001b[0mf\u001b[0m\u001b[0;34m,\u001b[0m \u001b[0;34m**\u001b[0m\u001b[0mself\u001b[0m\u001b[0;34m.\u001b[0m\u001b[0moptions\u001b[0m\u001b[0;34m)\u001b[0m\u001b[0;34m\u001b[0m\u001b[0m\n\u001b[0m\u001b[1;32m   1050\u001b[0m         \u001b[0;32melse\u001b[0m\u001b[0;34m:\u001b[0m\u001b[0;34m\u001b[0m\u001b[0m\n\u001b[1;32m   1051\u001b[0m             \u001b[0;32mif\u001b[0m \u001b[0mengine\u001b[0m \u001b[0;34m==\u001b[0m \u001b[0;34m'python'\u001b[0m\u001b[0;34m:\u001b[0m\u001b[0;34m\u001b[0m\u001b[0m\n",
      "\u001b[0;32m~/anaconda3/lib/python3.6/site-packages/pandas/io/parsers.py\u001b[0m in \u001b[0;36m__init__\u001b[0;34m(self, src, **kwds)\u001b[0m\n\u001b[1;32m   1693\u001b[0m         \u001b[0mkwds\u001b[0m\u001b[0;34m[\u001b[0m\u001b[0;34m'allow_leading_cols'\u001b[0m\u001b[0;34m]\u001b[0m \u001b[0;34m=\u001b[0m \u001b[0mself\u001b[0m\u001b[0;34m.\u001b[0m\u001b[0mindex_col\u001b[0m \u001b[0;32mis\u001b[0m \u001b[0;32mnot\u001b[0m \u001b[0;32mFalse\u001b[0m\u001b[0;34m\u001b[0m\u001b[0m\n\u001b[1;32m   1694\u001b[0m \u001b[0;34m\u001b[0m\u001b[0m\n\u001b[0;32m-> 1695\u001b[0;31m         \u001b[0mself\u001b[0m\u001b[0;34m.\u001b[0m\u001b[0m_reader\u001b[0m \u001b[0;34m=\u001b[0m \u001b[0mparsers\u001b[0m\u001b[0;34m.\u001b[0m\u001b[0mTextReader\u001b[0m\u001b[0;34m(\u001b[0m\u001b[0msrc\u001b[0m\u001b[0;34m,\u001b[0m \u001b[0;34m**\u001b[0m\u001b[0mkwds\u001b[0m\u001b[0;34m)\u001b[0m\u001b[0;34m\u001b[0m\u001b[0m\n\u001b[0m\u001b[1;32m   1696\u001b[0m \u001b[0;34m\u001b[0m\u001b[0m\n\u001b[1;32m   1697\u001b[0m         \u001b[0;31m# XXX\u001b[0m\u001b[0;34m\u001b[0m\u001b[0;34m\u001b[0m\u001b[0m\n",
      "\u001b[0;32mpandas/_libs/parsers.pyx\u001b[0m in \u001b[0;36mpandas._libs.parsers.TextReader.__cinit__\u001b[0;34m()\u001b[0m\n",
      "\u001b[0;32mpandas/_libs/parsers.pyx\u001b[0m in \u001b[0;36mpandas._libs.parsers.TextReader._setup_parser_source\u001b[0;34m()\u001b[0m\n",
      "\u001b[0;31mFileNotFoundError\u001b[0m: File b'calendario_economico.csv' does not exist"
     ]
    }
   ],
   "source": [
    "# Importación de datos calendario económico\n",
    "data = pd.read_csv('calendario_economico.csv',header=0, index_col=None, parse_dates=False)\n",
    "data.head()"
   ]
  },
  {
   "cell_type": "code",
   "execution_count": null,
   "metadata": {},
   "outputs": [],
   "source": [
    "Nonfarm = data.loc[data[\"Name\"] == \"Nonfarm Payrolls\"].reset_index(drop=True) #Resetear el indice, para encontrar calendario económico\n",
    "Nonfarm.consensus.fillna(Nonfarm.previous, inplace=True) #Formar Dataframe\n",
    "Nonfarm[\"timestamp\"] = pd.to_datetime(Nonfarm[\"timestamp\"])\n",
    "Nonfarm[\"timestamp\"] = Nonfarm[\"timestamp\"].dt.tz_localize('GMT')\n",
    "Nonfarm= Nonfarm.reset_index(drop= True)"
   ]
  },
  {
   "cell_type": "markdown",
   "metadata": {},
   "source": [
    "### Escenarios del indicador\n",
    "\n",
    "$A$ = $Actual$ ≥ $Consensus$ ≥ $Previous$\n",
    "\n",
    "$B$ = $Actual$ ≥ $Consensus$ ≤ $Previous$\n",
    "\n",
    "$C$ = $Actual$ ≤ $Consensus$ ≥ $Previous$\n",
    "\n",
    "$D$ = $Actual$ ≤ $Consensus$ ≤ $Previous$\n",
    "\n",
    "Donde:\n",
    "\n",
    "$Actual$ : Es el valor actual del indicador.\n",
    "\n",
    "$Consensus$ : Es el valor del indicador que se pronóstica.\n",
    "\n",
    "$Previous$ : Es el valor anterior del indicador."
   ]
  },
  {
   "cell_type": "code",
   "execution_count": null,
   "metadata": {},
   "outputs": [],
   "source": [
    "#Función  para encontrar los escenarios\n",
    "\n",
    "def clase(x):\n",
    "    \"\"\"Param x:DataFrame\n",
    "       Return x:DataFrame con columna de clase\"\"\"\n",
    "    \n",
    "    x[\"escenario\"] = x[\"actual\"]\n",
    "    for i in range(len(x[\"actual\"])):\n",
    "        if x[\"actual\"][i] >= x[\"consensus\"][i] >= x[\"previous\"][i]:\n",
    "            x[\"escenario\"][i] = \"A\"\n",
    "        elif x[\"actual\"][i] >= x[\"consensus\"][i] < x[\"previous\"][i]:\n",
    "            x[\"escenario\"][i] = \"B\"\n",
    "        elif x[\"actual\"][i] < x[\"consensus\"][i] >= x[\"previous\"][i]:\n",
    "            x[\"escenario\"][i] = \"C\"\n",
    "        elif x[\"actual\"][i] < x[\"consensus\"][i] < x[\"previous\"][i]:\n",
    "            x[\"escenario\"][i] = \"D\"\n",
    "    \n",
    "    return x"
   ]
  },
  {
   "cell_type": "code",
   "execution_count": null,
   "metadata": {},
   "outputs": [],
   "source": [
    "#Función para los periodos de 30 minutos antes y después de que se comunicó el índice \n",
    "\n",
    "def periodos(x,prices):\n",
    "    xt = prices[\"timestamp\"].isin(x[\"timestamp\"])\n",
    "    xt = [i for i in range(len(xt)) if xt[i] == True]\n",
    "    t = [prices[\"timestamp\"][i] for i in xt]\n",
    "    xtprt = [prices.iloc[i-6:i+7] for i in xt]\n",
    "    \n",
    "    return xtprt,t"
   ]
  },
  {
   "cell_type": "code",
   "execution_count": null,
   "metadata": {},
   "outputs": [],
   "source": [
    "# Función para calcular las metricas señaladas \n",
    "\n",
    "def metrica(x,y,z):\n",
    "    dire = lambda x: x.iloc[-1,-1]-x.iloc[int(len(x)/2),1]\n",
    "    alc = lambda x: x.iloc[int(len(x)/2):,1].max()-x.iloc[int(len(x)/2),1]\n",
    "    baj = lambda x: x.iloc[int(len(x)/2),1] - x.iloc[int(len(x)/2):,1].min()\n",
    "    vol = lambda x: x[\"high\"].max() - x[\"low\"].min()\n",
    "    \n",
    "    direccion = [dire(i.reset_index(drop=True)) for i in y]\n",
    "    alcista = [alc(i.reset_index(drop=True)) for i in y]\n",
    "    bajista = [baj(i.reset_index(drop=True)) for i in y]\n",
    "    volatilidad = [vol(i) for i in y]\n",
    "    x = x[x[\"timestamp\"].isin(z)]\n",
    "    x[\"direccion\"] = direccion\n",
    "    x[\"alcista\"] = alcista\n",
    "    x[\"bajista\"] = bajista\n",
    "    x[\"volatilidad\"] = volatilidad\n",
    "    \n",
    "    return x"
   ]
  },
  {
   "cell_type": "code",
   "execution_count": null,
   "metadata": {},
   "outputs": [],
   "source": [
    "#Aplicamos las funciones ya explicadas \n",
    "\n",
    "Nonfarm = clase(Nonfarm)"
   ]
  },
  {
   "cell_type": "code",
   "execution_count": null,
   "metadata": {},
   "outputs": [],
   "source": [
    "Nonfarmper,Nonfarmt = periodos(Nonfarm,prices)"
   ]
  },
  {
   "cell_type": "code",
   "execution_count": null,
   "metadata": {},
   "outputs": [],
   "source": [
    "Nonfarm = metrica(Nonfarm,Nonfarmper,Nonfarmt)"
   ]
  },
  {
   "cell_type": "code",
   "execution_count": null,
   "metadata": {
    "scrolled": false
   },
   "outputs": [],
   "source": [
    "Nonfarm.head()"
   ]
  },
  {
   "cell_type": "code",
   "execution_count": null,
   "metadata": {},
   "outputs": [],
   "source": [
    "def escenarios(x,y,z):\n",
    "    dire = lambda x: 1 if x.iloc[int(len(x)/2)][\"close\"] <= x.iloc[int(len(x)/2)][\"open\"]  else -1 \n",
    "    alc = lambda x: (x.iloc[int(len(x)/2):,1].max()-x.iloc[int(len(x)/2),1])*10000\n",
    "    baj = lambda x: (x.iloc[int(len(x)/2),1] - x.iloc[int(len(x)/2):,1].min())*10000\n",
    "    vol = lambda x: x[\"high\"].max() - x[\"low\"].min()\n",
    "    \n",
    "    direccion = [dire(i.reset_index(drop=True)) for i in y]\n",
    "    alcista = [alc(i.reset_index(drop=True)) for i in y]\n",
    "    bajista = [baj(i.reset_index(drop=True)) for i in y]\n",
    "    volatilidad = [vol(i) for i in y]\n",
    "    \n",
    "    x = x[x[\"timestamp\"].isin(z)]\n",
    "    x[\"direccion\"] = direccion\n",
    "    x[\"alcista\"] = alcista\n",
    "    x[\"bajista\"] = bajista\n",
    "    x[\"volatilidad\"] = volatilidad\n",
    "    \n",
    "\n",
    "\n",
    "    return x"
   ]
  },
  {
   "cell_type": "code",
   "execution_count": null,
   "metadata": {},
   "outputs": [],
   "source": [
    "df = escenarios(Nonfarm,Nonfarmper,Nonfarmt)\n",
    "df_escenarios= df[[\"timestamp\",\"escenario\",\"direccion\",\"alcista\", \"bajista\", \"volatilidad\" ]].reset_index(drop= True)\n",
    "df_escenarios.head()"
   ]
  },
  {
   "cell_type": "code",
   "execution_count": null,
   "metadata": {},
   "outputs": [],
   "source": [
    "fig = go.Figure()\n",
    "fig = make_subplots()\n",
    "fig.add_trace(go.Bar(x=list(df_escenarios['escenario'].value_counts().sort_index().index), \n",
    "                     y=df_escenarios['escenario'].value_counts().sort_index(),name='Conteo' ),secondary_y=False)\n",
    "\n",
    "fig.update_layout(title_text='Escenarios NonFarm Payrolls ')\n",
    "    \n",
    "\n",
    "fig.update_xaxes(title_text='Escenarios')\n",
    "    \n",
    "\n",
    "fig.update_yaxes(title_text=' # de Ocurrencias', secondary_y=False)\n",
    "    \n",
    "fig.show()"
   ]
  },
  {
   "cell_type": "code",
   "execution_count": null,
   "metadata": {},
   "outputs": [],
   "source": [
    "A_count= list(df[\"escenario\"]).count(\"A\")\n",
    "B_count= list(df[\"escenario\"]).count(\"B\")\n",
    "C_count= list(df[\"escenario\"]).count(\"C\")\n",
    "D_count= list(df[\"escenario\"]).count(\"D\")\n",
    "print('The count of A is:', A_count)\n",
    "print('The count of B is:', B_count)\n",
    "print('The count of C is:', C_count)\n",
    "print('The count of D is:', D_count)"
   ]
  },
  {
   "cell_type": "code",
   "execution_count": null,
   "metadata": {},
   "outputs": [],
   "source": [
    "A = df.loc[:,\"escenario\"] == 'A'\n",
    "df_A = df.loc[A]\n",
    "df_A.head()"
   ]
  },
  {
   "cell_type": "code",
   "execution_count": null,
   "metadata": {},
   "outputs": [],
   "source": [
    "a=list(df_A[\"direccion\"]).count(1)\n",
    "promalc_A_m= (df_A[\"alcista\"].min())*1.15\n",
    "promalc_A_M= (df_A[\"alcista\"].max())*.85\n",
    "prombaj_A_m= (df_A[\"bajista\"].min())*1.15\n",
    "prombaj_A_M= (df_A[\"bajista\"].max())*.85"
   ]
  },
  {
   "cell_type": "code",
   "execution_count": null,
   "metadata": {},
   "outputs": [],
   "source": [
    "B = df.loc[:,\"escenario\"] == 'B'\n",
    "df_B = df.loc[B]\n",
    "df_B.head()"
   ]
  },
  {
   "cell_type": "code",
   "execution_count": null,
   "metadata": {},
   "outputs": [],
   "source": [
    "b=list(df_B[\"direccion\"]).count(1)\n",
    "promalc_B_m= (df_B[\"alcista\"].min())*1.15\n",
    "promalc_B_M= (df_B[\"alcista\"].max())*.85\n",
    "prombaj_B_m= (df_B[\"bajista\"].min())*1.15\n",
    "prombaj_B_M= (df_B[\"bajista\"].max())*.85\n",
    "b"
   ]
  },
  {
   "cell_type": "code",
   "execution_count": null,
   "metadata": {},
   "outputs": [],
   "source": [
    "C = df.loc[:,\"escenario\"] == 'C'\n",
    "df_C = df.loc[C]\n",
    "df_C.head()"
   ]
  },
  {
   "cell_type": "code",
   "execution_count": null,
   "metadata": {},
   "outputs": [],
   "source": [
    "c=list(df_C[\"direccion\"]).count(1)\n",
    "promalc_C_m= (df_C[\"alcista\"].min())*1.15\n",
    "promalc_C_M= (df_C[\"alcista\"].max())*.85\n",
    "prombaj_C_m= (df_C[\"bajista\"].min())*1.15\n",
    "prombaj_C_M= (df_C[\"bajista\"].max())*.85\n"
   ]
  },
  {
   "cell_type": "code",
   "execution_count": null,
   "metadata": {},
   "outputs": [],
   "source": [
    "D = df.loc[:,\"escenario\"] == 'D'\n",
    "df_D = df.loc[D]\n",
    "df_D.head()"
   ]
  },
  {
   "cell_type": "code",
   "execution_count": null,
   "metadata": {},
   "outputs": [],
   "source": [
    "d=list(df_D[\"direccion\"]).count(-1)\n",
    "promalc_D_m= (df_D[\"alcista\"].min())*1.15\n",
    "promalc_D_M= (df_D[\"alcista\"].max())*.85\n",
    "prombaj_D_m= (df_D[\"bajista\"].min())*1.15\n",
    "prombaj_D_M= (df_D[\"bajista\"].max())*.85\n"
   ]
  },
  {
   "cell_type": "code",
   "execution_count": null,
   "metadata": {},
   "outputs": [],
   "source": [
    "def g_boxplot_varios(p0_data):\n",
    "    \"\"\"\n",
    "    :param p0_data: DataFrame : Data frame con 3 columnas con datos numericos, 1 columna por boxplot\n",
    "    :return:\n",
    "    debugging\n",
    "    p0_data = pd.DataFrame({'var1': list(np.random.normal(0,1,12)),\n",
    "                            'var2': list(np.random.normal(0,1,12)),\n",
    "                            'var3': list(np.random.normal(0,1,12))})\n",
    "    \"\"\"\n",
    "\n",
    "    x_data = list(p0_data.columns)\n",
    "    y_data = [p0_data.iloc[:, i]/max(p0_data.iloc[:, i]) for i in range(0, len(list(p0_data.columns)))]\n",
    "\n",
    "    fig = go.Figure()\n",
    "\n",
    "    for xd, yd in zip(x_data, y_data):\n",
    "        q1 = yd.quantile(0.25)\n",
    "        q3 = yd.quantile(0.75)\n",
    "        iqr = q3 - q1\n",
    "        out_yd = list(yd[(yd < (q1 - 1.5 * iqr)) | (yd > (q3 + 1.5 * iqr))].index)\n",
    "\n",
    "        fig.add_trace(go.Box(y=yd, name=xd, boxpoints='all', jitter=0.5, whiskerwidth=0.5, marker_size=7,\n",
    "                             line_width=1, boxmean=True, selectedpoints=out_yd))\n",
    "\n",
    "    fig.update_layout(title='Visualizacion de todas las variables (Normalizadas)',\n",
    "                      yaxis=dict(autorange=True, showgrid=True, dtick=5,\n",
    "                                 gridcolor='rgb(255, 255, 255)', gridwidth=1),\n",
    "                      margin=dict(l=40, r=30, b=80, t=100),\n",
    "                      showlegend=False)\n",
    "\n",
    "    fig.update_yaxes(hoverformat='.2f')\n",
    "\n",
    "    # Mostrar figura\n",
    "    # fig.show()\n",
    "\n",
    "    return fig"
   ]
  },
  {
   "cell_type": "code",
   "execution_count": null,
   "metadata": {},
   "outputs": [],
   "source": [
    "def operacion(x):\n",
    "    \"\"\"Param x:DataFrame\n",
    "       Return x:DataFrame con columna de clase\"\"\"\n",
    "\n",
    "    x[\"operacion\"] = x[\"escenario\"]\n",
    "    x[\"sl\"] = x[\"escenario\"]\n",
    "    x[\"tp\"] = x[\"escenario\"]\n",
    "    x[\"volumen\"]= x[\"escenario\"]\n",
    "\n",
    "    for i in range(len(x[\"escenario\"])):\n",
    "        if x[\"escenario\"][i] == \"A\" :\n",
    "            x[\"operacion\"][i] = \"Compra\"\n",
    "            x[\"sl\"][i]=  round((prombaj_A_m + prombaj_A_M) / 2 )\n",
    "            x[\"tp\"][i]=  round((promalc_A_m + promalc_A_M) / 2 )\n",
    "            x[\"volumen\"][i]= 135500\n",
    "        elif x[\"escenario\"][i] == \"B\":\n",
    "            x[\"operacion\"][i] = \"Compra\"\n",
    "            x[\"sl\"][i]=  round((prombaj_B_m + prombaj_B_M) / 2 )\n",
    "            x[\"tp\"][i]=  round((promalc_B_m + promalc_B_M) / 2 )\n",
    "            x[\"volumen\"][i]=  232500\n",
    "        elif x[\"escenario\"][i] == \"C\":\n",
    "            x[\"operacion\"][i] = \"Compra\"\n",
    "            x[\"sl\"][i]=  round((prombaj_C_m + prombaj_C_M) / 2 )\n",
    "            x[\"tp\"][i]=  round((promalc_C_m + promalc_C_M) / 2 )\n",
    "            x[\"volumen\"][i]= 232500\n",
    "        elif x[\"escenario\"][i] == \"D\":\n",
    "            x[\"operacion\"][i] = \"Venta\"\n",
    "            x[\"sl\"][i]=  round((promalc_D_m + promalc_D_M) / 2 )\n",
    "            x[\"tp\"][i]=  round((prombaj_D_m + prombaj_D_M) / 2 )\n",
    "            x[\"volumen\"][i]= 185000\n",
    "    return x"
   ]
  },
  {
   "cell_type": "code",
   "execution_count": null,
   "metadata": {},
   "outputs": [],
   "source": [
    "df_dec= operacion(df_escenarios)"
   ]
  },
  {
   "cell_type": "code",
   "execution_count": null,
   "metadata": {},
   "outputs": [],
   "source": [
    "df_decisiones= df_dec[[\"escenario\", \"operacion\", \"sl\", \"tp\", \"volumen\"]].drop_duplicates().reset_index(drop=True)\n",
    "df_decisiones.head()"
   ]
  },
  {
   "cell_type": "code",
   "execution_count": null,
   "metadata": {},
   "outputs": [],
   "source": [
    "def calculo(x,y):\n",
    "    \n",
    "    x[\"resultado\"]= x[\"volumen\"]\n",
    "    x[\"pips\"]= x[\"volumen\"]\n",
    "    x[\"capital\"]= x[\"volumen\"] \n",
    "    \n",
    "    capital= 100000 \n",
    "    \n",
    "    for i in range(len(x)):\n",
    "        m = y[i]\n",
    "       \n",
    "        for j in range(len(m.iloc[6:])):\n",
    "            \n",
    "            if x[\"operacion\"][i] == \"Compra\" :\n",
    "            \n",
    "                if ((x[\"tp\"][i])/10000) + m.iloc[int(len(m)/2)][\"open\"] >= m.iloc[j][\"high\"]  or ((x[\"sl\"][i])/10000) - m.iloc[int(len(m)/2)][\"open\"] <= m.iloc[j][\"low\"]  :\n",
    "                    if ((x[\"tp\"][i])/10000) + m.iloc[int(len(m)/2)][\"open\"] >=  m.iloc[j][\"high\"] :\n",
    "                        a=   m.iloc[int(len(m)/2)][\"open\"]                  \n",
    "                        b= ((x[\"tp\"][i])/10000) + m.iloc[int(len(m)/2)][\"open\"] \n",
    "                        c= x[\"volumen\"][i]*b - x[\"volumen\"][i]*a\n",
    "                        x[\"resultado\"][i] = \"ganadora\" if c > 0  else \"perdedora\"\n",
    "                        x[\"pips\"][i]= (b-a)*10000\n",
    "                        x[\"capital\"][i] = capital + c \n",
    "                    else :\n",
    "                        a= m.iloc[int(len(m)/2)][\"open\"]\n",
    "                        b= m.iloc[int(len(m)/2)][\"open\"]- ((x[\"sl\"][i])/10000)  \n",
    "                        c= x[\"volumen\"][i]* a - x[\"volumen\"][i]* b \n",
    "                        x[\"resultado\"][i] = \"ganadora\" if c > 0  else \"perdedora\"\n",
    "                        x[\"pips\"][i]= (a-b)/10000\n",
    "                        x[\"capital\"][i] = capital + c                         \n",
    "                else :\n",
    "                    a= m.iloc[int(len(m)/2)][\"open\"]   \n",
    "                    b= m.iloc[int(len(m)/2)][\"close\"] \n",
    "                    c= x[\"volumen\"][i]*a  - x[\"volumen\"][i]*b\n",
    "                    x[\"resultado\"][i] = \"ganadora\" if c > 0  else \"perdedora\"\n",
    "                    x[\"pips\"][i]= (a-b)*10000\n",
    "                    x[\"capital\"][i] = capital + c       \n",
    "            \n",
    "            elif x[\"operacion\"][i] == \"Venta\" : \n",
    "            \n",
    "                if (( m.iloc[int(len(m)/2)][\"open\"] - x[\"tp\"][i])/10000)  >=  m.iloc[j][\"high\"]  or  ((x[\"sl\"][i])/10000) + m.iloc[int(len(m)/2)][\"open\"]  <= m.iloc[j][\"low\"] :\n",
    "                    if  ((x[\"tp\"][i])/10000) - m.iloc[int(len(m)/2)][\"open\"] >= m.iloc[j][\"high\"]  :\n",
    "                        a= m.iloc[int(len(m)/2)][\"open\"]                  \n",
    "                        b=  m.iloc[int(len(m)/2)][\"open\"] - ((x[\"tp\"][i])/10000)  \n",
    "                        c= x[\"volumen\"][i]*a - x[\"volumen\"][i]*a\n",
    "                        x[\"resultado\"][i] = \"ganadora\" if c > 0  else \"perdedora\"\n",
    "                        x[\"pips\"][i]= (b-a)*10000\n",
    "                        x[\"capital\"][i] = capital + c \n",
    "                    else :\n",
    "                        a= m.iloc[int(len(m)/2)][\"open\"] \n",
    "                        b=((x[\"sl\"][i])/10000) + m.iloc[int(len(m)/2)][\"open\"] \n",
    "                        c= x[\"volumen\"][i]* a - x[\"volumen\"][i]*b\n",
    "                        x[\"resultado\"][i] = \"ganadora\" if c > 0  else \"perdedora\"\n",
    "                        x[\"pips\"][i]= (a-b)*10000\n",
    "                        x[\"capital\"][i] = capital + c                         \n",
    "                else :\n",
    "                    \n",
    "                    a= m.iloc[int(len(m)/2)][\"open\"]   \n",
    "                    b= m.iloc[int(len(m)/2)][\"close\"] \n",
    "                    c= x[\"volumen\"][i]*a - x[\"volumen\"][i]*b\n",
    "                    x[\"resultado\"][i] = \"ganadora\" if c > 0  else \"perdedora\"\n",
    "                    x[\"pips\"][i]= (a-b)*10000\n",
    "                    x[\"capital\"][i] = capital + c       \n",
    "\n",
    "  \n",
    "    return x            "
   ]
  },
  {
   "cell_type": "code",
   "execution_count": null,
   "metadata": {},
   "outputs": [],
   "source": [
    "df_backtest= calculo(df_dec,Nonfarmper)\n",
    "df_backtest= df_backtest[[\"escenario\", \"operacion\",\"volumen\", \"resultado\", \"pips\", \"capital\"]]\n",
    "\n"
   ]
  },
  {
   "cell_type": "code",
   "execution_count": null,
   "metadata": {
    "scrolled": true
   },
   "outputs": [],
   "source": [
    "df_backtest.head()"
   ]
  },
  {
   "cell_type": "markdown",
   "metadata": {},
   "source": [
    "### Evolución del Capital "
   ]
  },
  {
   "cell_type": "code",
   "execution_count": null,
   "metadata": {},
   "outputs": [],
   "source": [
    "fig = go.Figure()\n",
    "fig = make_subplots()\n",
    "fig.add_trace(go.Scatter(x=df_backtest['timestamp'], y=df_backtest['capital'],name='capital'),secondary_y=False)\n",
    "# Título del grafico\n",
    "fig.update_layout(title_text='Evolución del Capital')\n",
    "    \n",
    "# Titulo eje x\n",
    "fig.update_xaxes(title_text='Fechas')\n",
    "    \n",
    "# Titulo eje y\n",
    "fig.update_yaxes(title_text='Capital', secondary_y=False)\n",
    "    \n",
    "fig.show()"
   ]
  },
  {
   "cell_type": "code",
   "execution_count": null,
   "metadata": {},
   "outputs": [],
   "source": [
    "df_box=df[[ \"actual\", \"previous\", \"consensus\"]]"
   ]
  },
  {
   "cell_type": "code",
   "execution_count": null,
   "metadata": {},
   "outputs": [],
   "source": [
    "grafica = g_boxplot_varios(df_box)\n",
    "py.iplot(grafica)"
   ]
  },
  {
   "cell_type": "markdown",
   "metadata": {},
   "source": [
    "# Prueba"
   ]
  },
  {
   "cell_type": "code",
   "execution_count": null,
   "metadata": {},
   "outputs": [],
   "source": [
    "prices_2 = pd.read_csv('precios_historicos_eurusd_2019.csv',header=0, index_col=None, parse_dates=False)\n",
    "prices_2['timestamp'] = [pd.to_datetime(prices_2.iat[i,0]).tz_localize('GMT') for i in range(len(prices_2))] # Timestamp a 'GMT'\n"
   ]
  },
  {
   "cell_type": "code",
   "execution_count": null,
   "metadata": {},
   "outputs": [],
   "source": [
    "Nonfarm_2 = data.loc[data[\"Name\"] == \"Nonfarm Payrolls\"].reset_index(drop=True) #Resetear el indice, para encontrar calendario económico\n",
    "Nonfarm_2.consensus.fillna(Nonfarm_2.previous, inplace=True) #Formar Dataframe\n",
    "Nonfarm_2[\"timestamp\"] = pd.to_datetime(Nonfarm_2[\"timestamp\"])\n",
    "Nonfarm_2[\"timestamp\"] = Nonfarm_2[\"timestamp\"].dt.tz_localize('GMT')\n",
    "Nonfarm_2= Nonfarm_2.reset_index(drop= True)"
   ]
  },
  {
   "cell_type": "code",
   "execution_count": null,
   "metadata": {},
   "outputs": [],
   "source": [
    "Nonfarm_2 = clase(Nonfarm_2)\n",
    "Nonfarmper_2,Nonfarmt_2 = periodos(Nonfarm_2 ,prices_2)\n",
    "Nonfarm_2 = metrica(Nonfarm_2 ,Nonfarmper_2,Nonfarmt_2)"
   ]
  },
  {
   "cell_type": "code",
   "execution_count": null,
   "metadata": {},
   "outputs": [],
   "source": [
    "df_2 = escenarios(Nonfarm_2,Nonfarmper_2,Nonfarmt_2)\n",
    "df_escenarios_2= df_2[[\"timestamp\",\"escenario\",\"direccion\",\"alcista\", \"bajista\", \"volatilidad\" ]]\n",
    "df_escenarios_2 = df_escenarios_2.reset_index(drop=True)"
   ]
  },
  {
   "cell_type": "code",
   "execution_count": null,
   "metadata": {},
   "outputs": [],
   "source": [
    "df_box_2=df_2[[ \"actual\", \"previous\", \"consensus\"]]"
   ]
  },
  {
   "cell_type": "code",
   "execution_count": null,
   "metadata": {},
   "outputs": [],
   "source": [
    "grafica = g_boxplot_varios(df_box_2)\n",
    "py.iplot(grafica)"
   ]
  },
  {
   "cell_type": "code",
   "execution_count": null,
   "metadata": {},
   "outputs": [],
   "source": [
    "fig = go.Figure()\n",
    "fig = make_subplots()\n",
    "fig.add_trace(go.Bar(x=list(df_escenarios_2['escenario'].value_counts().sort_index().index), \n",
    "                     y=df_escenarios_2['escenario'].value_counts().sort_index(),name='Conteo' ),secondary_y=False)\n",
    "\n",
    "fig.update_layout(title_text='Escenarios NonFarm Payrolls ')\n",
    "    \n",
    "\n",
    "fig.update_xaxes(title_text='Escenarios')\n",
    "    \n",
    "\n",
    "fig.update_yaxes(title_text=' # de Ocurrencias', secondary_y=False)\n",
    "    \n",
    "fig.show()"
   ]
  },
  {
   "cell_type": "code",
   "execution_count": null,
   "metadata": {},
   "outputs": [],
   "source": [
    "df_dec_2= operacion(df_escenarios_2)\n",
    "df_decisiones_2= df_dec_2[[\"timestamp\",\"escenario\", \"operacion\", \"sl\", \"tp\", \"volumen\"]].drop_duplicates().reset_index(drop=True)"
   ]
  },
  {
   "cell_type": "code",
   "execution_count": null,
   "metadata": {},
   "outputs": [],
   "source": [
    "df_prueba= calculo(df_dec_2,Nonfarmper_2)"
   ]
  },
  {
   "cell_type": "code",
   "execution_count": null,
   "metadata": {},
   "outputs": [],
   "source": [
    "df_prueba= df_prueba[[\"timestamp\",\"escenario\", \"operacion\",\"volumen\", \"resultado\", \"pips\", \"capital\"]]\n",
    "df_prueba"
   ]
  },
  {
   "cell_type": "markdown",
   "metadata": {},
   "source": [
    "### Evolución del Capital "
   ]
  },
  {
   "cell_type": "code",
   "execution_count": null,
   "metadata": {},
   "outputs": [],
   "source": [
    "fig = go.Figure()\n",
    "fig = make_subplots()\n",
    "fig.add_trace(go.Scatter(x=df_prueba['timestamp'], y=df_prueba['capital'],name='capital'),secondary_y=False)\n",
    "# Título del grafico\n",
    "fig.update_layout(title_text='Evolución de Capital')\n",
    "    \n",
    "# Titulo eje x\n",
    "fig.update_xaxes(title_text='Fechas')\n",
    "    \n",
    "# Titulo eje y\n",
    "fig.update_yaxes(title_text='Capital', secondary_y=False)\n",
    "    \n",
    "fig.show()"
   ]
  },
  {
   "cell_type": "code",
   "execution_count": null,
   "metadata": {},
   "outputs": [],
   "source": []
  }
 ],
 "metadata": {
  "kernelspec": {
   "display_name": "Python 3",
   "language": "python",
   "name": "python3"
  },
  "language_info": {
   "codemirror_mode": {
    "name": "ipython",
    "version": 3
   },
   "file_extension": ".py",
   "mimetype": "text/x-python",
   "name": "python",
   "nbconvert_exporter": "python",
   "pygments_lexer": "ipython3",
   "version": "3.6.4"
  }
 },
 "nbformat": 4,
 "nbformat_minor": 2
}
